{
 "cells": [
  {
   "cell_type": "code",
   "execution_count": 32,
   "metadata": {
    "collapsed": false
   },
   "outputs": [],
   "source": [
    "import numpy as np\n",
    "import pandas as pd\n",
    "from gensim.models import word2vec\n",
    "import re\n",
    "from nltk.corpus import stopwords"
   ]
  },
  {
   "cell_type": "code",
   "execution_count": 33,
   "metadata": {
    "collapsed": false
   },
   "outputs": [],
   "source": [
    "model = word2vec.Word2Vec.load('data/quora/word2vec_full_data_wo_stopwords')"
   ]
  },
  {
   "cell_type": "code",
   "execution_count": 64,
   "metadata": {
    "collapsed": false
   },
   "outputs": [],
   "source": [
    "#cosine similarity\n",
    "def cosine(v1, v2):\n",
    "    v1 = np.array(v1)\n",
    "    v2 = np.array(v2)\n",
    "    return float(np.dot(v1, v2) / (np.sqrt(np.sum(v1**2)) * np.sqrt(np.sum(v2**2))))"
   ]
  },
  {
   "cell_type": "code",
   "execution_count": 48,
   "metadata": {
    "collapsed": false
   },
   "outputs": [],
   "source": [
    "def question_to_wordlist( question, remove_stopwords=True ):\n",
    "    question = re.sub(\"[^a-zA-Z]\",\" \", str(question))\n",
    "    words = question.lower().split()\n",
    "    if remove_stopwords:\n",
    "        stops = set(stopwords.words(\"english\"))\n",
    "        words = [w for w in words if not w in stops]\n",
    "    return(words)"
   ]
  },
  {
   "cell_type": "code",
   "execution_count": 36,
   "metadata": {
    "collapsed": true
   },
   "outputs": [],
   "source": [
    "data_train = pd.read_csv('data/quora/train.csv')\n",
    "data_test = pd.read_csv('data/quora/test.csv')"
   ]
  },
  {
   "cell_type": "code",
   "execution_count": 43,
   "metadata": {
    "collapsed": true
   },
   "outputs": [],
   "source": [
    "def makeFeatureVec(words, model, num_features):\n",
    "    featureVec = np.zeros((num_features,),dtype=\"float32\")\n",
    "    nwords = 0. \n",
    "    for word in words:\n",
    "        if word in model: \n",
    "            nwords = nwords + 1.\n",
    "            featureVec = np.add(featureVec,model[word])\n",
    "    featureVec = np.divide(featureVec,nwords)\n",
    "    return featureVec\n",
    "\n",
    "\n",
    "def getAvgFeatureVecs(questions, model, num_features):\n",
    "    counter = 0.\n",
    "    questionFeatureVecs = np.zeros((len(questions),num_features),dtype=\"float32\")\n",
    "    for question in questions:\n",
    "        words = question_to_wordlist(question)\n",
    "        if counter%100000. == 0.:\n",
    "            print \"Review %d of %d\" % (counter, len(questions))\n",
    "        questionFeatureVecs[counter] = makeFeatureVec(words, model, num_features)\n",
    "        counter = counter + 1.\n",
    "    return questionFeatureVecs"
   ]
  },
  {
   "cell_type": "code",
   "execution_count": 52,
   "metadata": {
    "collapsed": false
   },
   "outputs": [
    {
     "name": "stdout",
     "output_type": "stream",
     "text": [
      "Review 0 of 404290\n"
     ]
    },
    {
     "name": "stderr",
     "output_type": "stream",
     "text": [
      "/home/vparambath/anaconda2/lib/python2.7/site-packages/ipykernel/__main__.py:19: DeprecationWarning: using a non-integer number instead of an integer will result in an error in the future\n"
     ]
    },
    {
     "name": "stdout",
     "output_type": "stream",
     "text": [
      "Review 100000 of 404290\n",
      "Review 200000 of 404290\n",
      "Review 300000 of 404290\n",
      "Review 400000 of 404290\n"
     ]
    }
   ],
   "source": [
    "train_qn1_avg_vector = getAvgFeatureVecs(data_train['question1'], model, 300)"
   ]
  },
  {
   "cell_type": "code",
   "execution_count": 49,
   "metadata": {
    "collapsed": false
   },
   "outputs": [
    {
     "name": "stdout",
     "output_type": "stream",
     "text": [
      "Review 0 of 404290\n"
     ]
    },
    {
     "name": "stderr",
     "output_type": "stream",
     "text": [
      "/home/vparambath/anaconda2/lib/python2.7/site-packages/ipykernel/__main__.py:19: DeprecationWarning: using a non-integer number instead of an integer will result in an error in the future\n"
     ]
    },
    {
     "name": "stdout",
     "output_type": "stream",
     "text": [
      "Review 100000 of 404290\n",
      "Review 200000 of 404290\n",
      "Review 300000 of 404290\n",
      "Review 400000 of 404290\n"
     ]
    }
   ],
   "source": [
    "train_qn2_avg_vector = getAvgFeatureVecs(data_train['question2'], model, 300)"
   ]
  },
  {
   "cell_type": "code",
   "execution_count": 65,
   "metadata": {
    "collapsed": false
   },
   "outputs": [],
   "source": [
    "cosine_sim = []\n",
    "for x,y in zip(train_qn1_avg_vector, train_qn2_avg_vector):\n",
    "    cosine_sim.append(cosine(x , y))"
   ]
  },
  {
   "cell_type": "code",
   "execution_count": 72,
   "metadata": {
    "collapsed": false
   },
   "outputs": [],
   "source": [
    "import pickle\n",
    "cosine_sim_df= pd.DataFrame(list(cosine_sim), columns=['cosine_sim'])\n",
    "with open('data/quora/train_cosine_sim.pickle','w') as f:\n",
    "    pickle.dump(cosine_sim_df,f)"
   ]
  },
  {
   "cell_type": "code",
   "execution_count": 71,
   "metadata": {
    "collapsed": false
   },
   "outputs": [
    {
     "data": {
      "text/html": [
       "<div>\n",
       "<table border=\"1\" class=\"dataframe\">\n",
       "  <thead>\n",
       "    <tr style=\"text-align: right;\">\n",
       "      <th></th>\n",
       "      <th>cosine_sim</th>\n",
       "    </tr>\n",
       "  </thead>\n",
       "  <tbody>\n",
       "    <tr>\n",
       "      <th>0</th>\n",
       "      <td>0.961703</td>\n",
       "    </tr>\n",
       "    <tr>\n",
       "      <th>1</th>\n",
       "      <td>0.747565</td>\n",
       "    </tr>\n",
       "    <tr>\n",
       "      <th>2</th>\n",
       "      <td>0.704237</td>\n",
       "    </tr>\n",
       "    <tr>\n",
       "      <th>3</th>\n",
       "      <td>0.093080</td>\n",
       "    </tr>\n",
       "    <tr>\n",
       "      <th>4</th>\n",
       "      <td>0.579749</td>\n",
       "    </tr>\n",
       "  </tbody>\n",
       "</table>\n",
       "</div>"
      ],
      "text/plain": [
       "   cosine_sim\n",
       "0    0.961703\n",
       "1    0.747565\n",
       "2    0.704237\n",
       "3    0.093080\n",
       "4    0.579749"
      ]
     },
     "execution_count": 71,
     "metadata": {},
     "output_type": "execute_result"
    }
   ],
   "source": [
    "cosine_sim_df.head()"
   ]
  },
  {
   "cell_type": "code",
   "execution_count": 73,
   "metadata": {
    "collapsed": false
   },
   "outputs": [
    {
     "name": "stdout",
     "output_type": "stream",
     "text": [
      "Review 0 of 2345796\n"
     ]
    },
    {
     "name": "stderr",
     "output_type": "stream",
     "text": [
      "/home/vparambath/anaconda2/lib/python2.7/site-packages/ipykernel/__main__.py:19: DeprecationWarning: using a non-integer number instead of an integer will result in an error in the future\n"
     ]
    },
    {
     "name": "stdout",
     "output_type": "stream",
     "text": [
      "Review 100000 of 2345796\n",
      "Review 200000 of 2345796\n",
      "Review 300000 of 2345796\n",
      "Review 400000 of 2345796\n",
      "Review 500000 of 2345796\n",
      "Review 600000 of 2345796\n",
      "Review 700000 of 2345796\n",
      "Review 800000 of 2345796\n",
      "Review 900000 of 2345796\n",
      "Review 1000000 of 2345796\n",
      "Review 1100000 of 2345796\n",
      "Review 1200000 of 2345796\n",
      "Review 1300000 of 2345796\n",
      "Review 1400000 of 2345796\n",
      "Review 1500000 of 2345796\n",
      "Review 1600000 of 2345796\n",
      "Review 1700000 of 2345796\n",
      "Review 1800000 of 2345796\n",
      "Review 1900000 of 2345796\n",
      "Review 2000000 of 2345796\n",
      "Review 2100000 of 2345796\n",
      "Review 2200000 of 2345796\n",
      "Review 2300000 of 2345796\n",
      "Review 0 of 2345796\n",
      "Review 100000 of 2345796\n",
      "Review 200000 of 2345796\n",
      "Review 300000 of 2345796\n",
      "Review 400000 of 2345796\n",
      "Review 500000 of 2345796\n",
      "Review 600000 of 2345796\n",
      "Review 700000 of 2345796\n",
      "Review 800000 of 2345796\n",
      "Review 900000 of 2345796\n",
      "Review 1000000 of 2345796\n",
      "Review 1100000 of 2345796\n",
      "Review 1200000 of 2345796\n",
      "Review 1300000 of 2345796\n",
      "Review 1400000 of 2345796\n",
      "Review 1500000 of 2345796\n",
      "Review 1600000 of 2345796\n",
      "Review 1700000 of 2345796\n",
      "Review 1800000 of 2345796\n",
      "Review 1900000 of 2345796\n",
      "Review 2000000 of 2345796\n",
      "Review 2100000 of 2345796\n",
      "Review 2200000 of 2345796\n",
      "Review 2300000 of 2345796\n"
     ]
    }
   ],
   "source": [
    "test_qn1_avg_vector = getAvgFeatureVecs(data_test['question1'], model, 300)\n",
    "test_qn2_avg_vector = getAvgFeatureVecs(data_test['question2'], model, 300)"
   ]
  },
  {
   "cell_type": "code",
   "execution_count": 74,
   "metadata": {
    "collapsed": true
   },
   "outputs": [],
   "source": [
    "test_cosine_sim = []\n",
    "for x,y in zip(test_qn1_avg_vector, test_qn2_avg_vector):\n",
    "    test_cosine_sim.append(cosine(x , y))\n",
    "test_cosine_sim_df= pd.DataFrame(list(test_cosine_sim), columns=['cosine_sim'])\n",
    "with open('data/quora/test_cosine_sim.pickle','w') as f:\n",
    "    pickle.dump(test_cosine_sim_df,f)  "
   ]
  },
  {
   "cell_type": "code",
   "execution_count": null,
   "metadata": {
    "collapsed": true
   },
   "outputs": [],
   "source": []
  }
 ],
 "metadata": {
  "kernelspec": {
   "display_name": "Python 2",
   "language": "python",
   "name": "python2"
  },
  "language_info": {
   "codemirror_mode": {
    "name": "ipython",
    "version": 2
   },
   "file_extension": ".py",
   "mimetype": "text/x-python",
   "name": "python",
   "nbconvert_exporter": "python",
   "pygments_lexer": "ipython2",
   "version": "2.7.13"
  }
 },
 "nbformat": 4,
 "nbformat_minor": 2
}
