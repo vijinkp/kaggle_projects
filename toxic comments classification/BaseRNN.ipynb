{
 "cells": [
  {
   "cell_type": "markdown",
   "metadata": {},
   "source": [
    "- Plan to train each column separately.\n",
    "- Here, use an rnn model to train the first column: `toxic`\n",
    "- It is pretty slow"
   ]
  },
  {
   "cell_type": "code",
   "execution_count": 1,
   "metadata": {
    "_cell_guid": "333dc45a-ca46-4a2c-af24-00cd57e27883",
    "_uuid": "b15824606aeebc19c0eafa981cbdaafcf80363f4",
    "collapsed": true
   },
   "outputs": [],
   "source": [
    "## system\n",
    "import os\n",
    "\n",
    "## Math and dataFrame\n",
    "import numpy as np\n",
    "import pandas as pd\n",
    "import scipy\n",
    "from scipy.sparse import csr_matrix, hstack\n",
    "\n",
    "## Visualization\n",
    "%matplotlib inline\n",
    "import matplotlib.pyplot as plt\n",
    "from IPython.display import display\n",
    "import seaborn as sns"
   ]
  },
  {
   "cell_type": "code",
   "execution_count": 2,
   "metadata": {
    "_cell_guid": "6b1b883f-9fd8-4053-a309-5bca91008cbf",
    "_uuid": "f9876766de8f6bcd302b6b1e9047d81d74c551fb",
    "collapsed": true
   },
   "outputs": [],
   "source": [
    "## Traditional Machine Learning\n",
    "from sklearn.linear_model import Ridge, LogisticRegression\n",
    "from sklearn.model_selection import train_test_split, cross_val_score\n",
    "from sklearn.feature_extraction.text import CountVectorizer, TfidfVectorizer\n",
    "from sklearn.preprocessing import LabelBinarizer"
   ]
  },
  {
   "cell_type": "code",
   "execution_count": 3,
   "metadata": {
    "_cell_guid": "73660cd7-f560-4c5f-88a6-ccc76302c4dc",
    "_uuid": "4d00479ca3112032f461505ea9cca53e449cb6c2"
   },
   "outputs": [
    {
     "name": "stderr",
     "output_type": "stream",
     "text": [
      "Using TensorFlow backend.\n"
     ]
    }
   ],
   "source": [
    "## Keras\n",
    "from keras.layers import Input, Dropout, Dense, BatchNormalization, Activation, concatenate, GRU, Embedding, Flatten\n",
    "from keras.models import Model, Sequential\n",
    "from keras.callbacks import ModelCheckpoint, Callback, EarlyStopping#, TensorBoard\n",
    "from keras import backend as K\n",
    "from keras import optimizers\n",
    "from keras.optimizers import SGD\n",
    "from keras import initializers\n",
    "from keras.callbacks import LearningRateScheduler\n",
    "from keras.utils import np_utils\n",
    "from keras.preprocessing.sequence import pad_sequences"
   ]
  },
  {
   "cell_type": "code",
   "execution_count": 4,
   "metadata": {
    "collapsed": true
   },
   "outputs": [],
   "source": [
    "## Using Multi processing"
   ]
  },
  {
   "cell_type": "code",
   "execution_count": 5,
   "metadata": {
    "collapsed": true
   },
   "outputs": [],
   "source": [
    "from multiprocessing import Pool"
   ]
  },
  {
   "cell_type": "code",
   "execution_count": 6,
   "metadata": {
    "_cell_guid": "7b4724d4-cf48-4caf-8682-0143652ab683",
    "_uuid": "5702f8694094107547dfdb847e11de51cf6a6407"
   },
   "outputs": [],
   "source": [
    "## Load data\n",
    "train = pd.read_csv('../input/train.csv')\n",
    "test = pd.read_csv('../input/test.csv')"
   ]
  },
  {
   "cell_type": "markdown",
   "metadata": {},
   "source": [
    "##### Do some statistics"
   ]
  },
  {
   "cell_type": "code",
   "execution_count": 7,
   "metadata": {
    "_cell_guid": "2fd98650-b3de-4222-9662-6c0fad714ded",
    "_uuid": "b23f8b789678c9446133308b212abfc0adea5830"
   },
   "outputs": [
    {
     "data": {
      "text/html": [
       "<div>\n",
       "<style>\n",
       "    .dataframe thead tr:only-child th {\n",
       "        text-align: right;\n",
       "    }\n",
       "\n",
       "    .dataframe thead th {\n",
       "        text-align: left;\n",
       "    }\n",
       "\n",
       "    .dataframe tbody tr th {\n",
       "        vertical-align: top;\n",
       "    }\n",
       "</style>\n",
       "<table border=\"1\" class=\"dataframe\">\n",
       "  <thead>\n",
       "    <tr style=\"text-align: right;\">\n",
       "      <th></th>\n",
       "      <th>id</th>\n",
       "      <th>comment_text</th>\n",
       "      <th>toxic</th>\n",
       "      <th>severe_toxic</th>\n",
       "      <th>obscene</th>\n",
       "      <th>threat</th>\n",
       "      <th>insult</th>\n",
       "      <th>identity_hate</th>\n",
       "    </tr>\n",
       "  </thead>\n",
       "  <tbody>\n",
       "    <tr>\n",
       "      <th>0</th>\n",
       "      <td>0000997932d777bf</td>\n",
       "      <td>Explanation\\nWhy the edits made under my usern...</td>\n",
       "      <td>0</td>\n",
       "      <td>0</td>\n",
       "      <td>0</td>\n",
       "      <td>0</td>\n",
       "      <td>0</td>\n",
       "      <td>0</td>\n",
       "    </tr>\n",
       "    <tr>\n",
       "      <th>1</th>\n",
       "      <td>000103f0d9cfb60f</td>\n",
       "      <td>D'aww! He matches this background colour I'm s...</td>\n",
       "      <td>0</td>\n",
       "      <td>0</td>\n",
       "      <td>0</td>\n",
       "      <td>0</td>\n",
       "      <td>0</td>\n",
       "      <td>0</td>\n",
       "    </tr>\n",
       "    <tr>\n",
       "      <th>2</th>\n",
       "      <td>000113f07ec002fd</td>\n",
       "      <td>Hey man, I'm really not trying to edit war. It...</td>\n",
       "      <td>0</td>\n",
       "      <td>0</td>\n",
       "      <td>0</td>\n",
       "      <td>0</td>\n",
       "      <td>0</td>\n",
       "      <td>0</td>\n",
       "    </tr>\n",
       "    <tr>\n",
       "      <th>3</th>\n",
       "      <td>0001b41b1c6bb37e</td>\n",
       "      <td>\"\\nMore\\nI can't make any real suggestions on ...</td>\n",
       "      <td>0</td>\n",
       "      <td>0</td>\n",
       "      <td>0</td>\n",
       "      <td>0</td>\n",
       "      <td>0</td>\n",
       "      <td>0</td>\n",
       "    </tr>\n",
       "    <tr>\n",
       "      <th>4</th>\n",
       "      <td>0001d958c54c6e35</td>\n",
       "      <td>You, sir, are my hero. Any chance you remember...</td>\n",
       "      <td>0</td>\n",
       "      <td>0</td>\n",
       "      <td>0</td>\n",
       "      <td>0</td>\n",
       "      <td>0</td>\n",
       "      <td>0</td>\n",
       "    </tr>\n",
       "    <tr>\n",
       "      <th>5</th>\n",
       "      <td>00025465d4725e87</td>\n",
       "      <td>\"\\n\\nCongratulations from me as well, use the ...</td>\n",
       "      <td>0</td>\n",
       "      <td>0</td>\n",
       "      <td>0</td>\n",
       "      <td>0</td>\n",
       "      <td>0</td>\n",
       "      <td>0</td>\n",
       "    </tr>\n",
       "    <tr>\n",
       "      <th>6</th>\n",
       "      <td>0002bcb3da6cb337</td>\n",
       "      <td>COCKSUCKER BEFORE YOU PISS AROUND ON MY WORK</td>\n",
       "      <td>1</td>\n",
       "      <td>1</td>\n",
       "      <td>1</td>\n",
       "      <td>0</td>\n",
       "      <td>1</td>\n",
       "      <td>0</td>\n",
       "    </tr>\n",
       "    <tr>\n",
       "      <th>7</th>\n",
       "      <td>00031b1e95af7921</td>\n",
       "      <td>Your vandalism to the Matt Shirvington article...</td>\n",
       "      <td>0</td>\n",
       "      <td>0</td>\n",
       "      <td>0</td>\n",
       "      <td>0</td>\n",
       "      <td>0</td>\n",
       "      <td>0</td>\n",
       "    </tr>\n",
       "    <tr>\n",
       "      <th>8</th>\n",
       "      <td>00037261f536c51d</td>\n",
       "      <td>Sorry if the word 'nonsense' was offensive to ...</td>\n",
       "      <td>0</td>\n",
       "      <td>0</td>\n",
       "      <td>0</td>\n",
       "      <td>0</td>\n",
       "      <td>0</td>\n",
       "      <td>0</td>\n",
       "    </tr>\n",
       "    <tr>\n",
       "      <th>9</th>\n",
       "      <td>00040093b2687caa</td>\n",
       "      <td>alignment on this subject and which are contra...</td>\n",
       "      <td>0</td>\n",
       "      <td>0</td>\n",
       "      <td>0</td>\n",
       "      <td>0</td>\n",
       "      <td>0</td>\n",
       "      <td>0</td>\n",
       "    </tr>\n",
       "  </tbody>\n",
       "</table>\n",
       "</div>"
      ],
      "text/plain": [
       "                 id                                       comment_text  toxic  \\\n",
       "0  0000997932d777bf  Explanation\\nWhy the edits made under my usern...      0   \n",
       "1  000103f0d9cfb60f  D'aww! He matches this background colour I'm s...      0   \n",
       "2  000113f07ec002fd  Hey man, I'm really not trying to edit war. It...      0   \n",
       "3  0001b41b1c6bb37e  \"\\nMore\\nI can't make any real suggestions on ...      0   \n",
       "4  0001d958c54c6e35  You, sir, are my hero. Any chance you remember...      0   \n",
       "5  00025465d4725e87  \"\\n\\nCongratulations from me as well, use the ...      0   \n",
       "6  0002bcb3da6cb337       COCKSUCKER BEFORE YOU PISS AROUND ON MY WORK      1   \n",
       "7  00031b1e95af7921  Your vandalism to the Matt Shirvington article...      0   \n",
       "8  00037261f536c51d  Sorry if the word 'nonsense' was offensive to ...      0   \n",
       "9  00040093b2687caa  alignment on this subject and which are contra...      0   \n",
       "\n",
       "   severe_toxic  obscene  threat  insult  identity_hate  \n",
       "0             0        0       0       0              0  \n",
       "1             0        0       0       0              0  \n",
       "2             0        0       0       0              0  \n",
       "3             0        0       0       0              0  \n",
       "4             0        0       0       0              0  \n",
       "5             0        0       0       0              0  \n",
       "6             1        1       0       1              0  \n",
       "7             0        0       0       0              0  \n",
       "8             0        0       0       0              0  \n",
       "9             0        0       0       0              0  "
      ]
     },
     "metadata": {},
     "output_type": "display_data"
    },
    {
     "name": "stdout",
     "output_type": "stream",
     "text": [
      "(159571, 8)\n",
      "toxic count = 15294\n",
      "severe_toxic count = 1595\n",
      "obscene count = 8449\n",
      "threat count = 478\n",
      "insult count = 7877\n",
      "identity_hate count = 1405\n"
     ]
    }
   ],
   "source": [
    "display(train[:10])\n",
    "print(train.shape)\n",
    "print(\"toxic count = {0}\".format(train.toxic.sum()))\n",
    "print(\"severe_toxic count = {0}\".format(train.severe_toxic.sum()))\n",
    "print(\"obscene count = {0}\".format(train.obscene.sum()))\n",
    "print(\"threat count = {0}\".format(train.threat.sum()))\n",
    "print(\"insult count = {0}\".format(train.insult.sum()))\n",
    "print(\"identity_hate count = {0}\".format(train.identity_hate.sum()))"
   ]
  },
  {
   "cell_type": "markdown",
   "metadata": {},
   "source": [
    "###### Show correlation matrix"
   ]
  },
  {
   "cell_type": "code",
   "execution_count": 8,
   "metadata": {},
   "outputs": [
    {
     "data": {
      "text/plain": [
       "<matplotlib.axes._subplots.AxesSubplot at 0x7f2b46f03240>"
      ]
     },
     "execution_count": 8,
     "metadata": {},
     "output_type": "execute_result"
    },
    {
     "data": {
      "image/png": "[encoded data removed]",
      "text/plain": [
       "<matplotlib.figure.Figure at 0x7f2b46f12cf8>"
      ]
     },
     "metadata": {},
     "output_type": "display_data"
    }
   ],
   "source": [
    "corr = train[['toxic', 'severe_toxic', 'obscene', 'threat', 'insult', 'identity_hate']].corr()\n",
    "f, ax = plt.subplots(figsize=(10, 8))\n",
    "sns.heatmap(corr, mask=np.zeros_like(corr, dtype=np.bool), cmap=sns.diverging_palette(220, 10, as_cmap=True),\n",
    "            square=True, ax=ax)"
   ]
  },
  {
   "cell_type": "markdown",
   "metadata": {
    "_cell_guid": "4eb487b4-2829-44a4-943d-f6ea0aa7c331",
    "_uuid": "6418d9abb0412df2272688da7d31a3349722cf2e"
   },
   "source": [
    "###### For Sentence processing"
   ]
  },
  {
   "cell_type": "code",
   "execution_count": 9,
   "metadata": {
    "_cell_guid": "f74c43dd-ea21-4d4f-a34f-23c612c0ace1",
    "_uuid": "bb69470290d9b8fe5053efcef123fc87260e693f",
    "collapsed": true
   },
   "outputs": [],
   "source": [
    "from nltk import word_tokenize\n",
    "from nltk.corpus import stopwords\n",
    "import string\n",
    "stop = set(stopwords.words('english'))\n",
    "punc = set(string.punctuation)"
   ]
  },
  {
   "cell_type": "markdown",
   "metadata": {},
   "source": [
    "Here I am trying to remove all the stop words and punctuations. Not sure whether it will give a better result or not"
   ]
  },
  {
   "cell_type": "code",
   "execution_count": 10,
   "metadata": {
    "collapsed": true
   },
   "outputs": [],
   "source": [
    "#### Preprocess sentences (removing punctuations and removing stop words)\n",
    "def rmPunc(sent):\n",
    "    return ''.join([ch for ch in str(sent) if ch not in punc])\n",
    "def rmStop(sent):\n",
    "    return ' '.join([word for word in sent.split() if word not in stop])"
   ]
  },
  {
   "cell_type": "code",
   "execution_count": 11,
   "metadata": {
    "_cell_guid": "4a60b951-2dcf-40e5-a247-6992765c7a21",
    "_uuid": "4830e4afc41cc1b0cbbde2731e711a98302e75ad"
   },
   "outputs": [
    {
     "name": "stdout",
     "output_type": "stream",
     "text": [
      "PREPROCESS TEXT...\n",
      "CPU times: user 420 ms, sys: 348 ms, total: 768 ms\n",
      "Wall time: 1.7 s\n",
      "CPU times: user 432 ms, sys: 272 ms, total: 704 ms\n",
      "Wall time: 1.42 s\n",
      "CPU times: user 444 ms, sys: 184 ms, total: 628 ms\n",
      "Wall time: 882 ms\n",
      "CPU times: user 440 ms, sys: 108 ms, total: 548 ms\n",
      "Wall time: 797 ms\n"
     ]
    }
   ],
   "source": [
    "print(\"PREPROCESS TEXT...\")\n",
    "pool = Pool()\n",
    "%time train.comment_text = pool.map(rmPunc, train.comment_text.str.lower())\n",
    "%time test.comment_text = pool.map(rmPunc, test.comment_text.str.lower())\n",
    "\n",
    "%time train.comment_text = pool.map(rmStop, train.comment_text.str.lower())\n",
    "%time test.comment_text = pool.map(rmStop, test.comment_text.str.lower())\n",
    "pool.close()\n",
    "pool.join()"
   ]
  },
  {
   "cell_type": "markdown",
   "metadata": {
    "_cell_guid": "22933d1f-8125-4f87-bae4-3eb9e20da846",
    "_uuid": "a6f25ccb7adf58b02cb3e3118524a1aec99f4ad8"
   },
   "source": [
    "###### Tokenization"
   ]
  },
  {
   "cell_type": "code",
   "execution_count": 12,
   "metadata": {
    "_cell_guid": "1310a93f-2a26-4f3e-a1ef-f13d23d4df70",
    "_uuid": "948fa452f8b833e79699e3620e39c4cdfe0d9f1a"
   },
   "outputs": [
    {
     "name": "stdout",
     "output_type": "stream",
     "text": [
      "Text to seq process...\n",
      "   Fitting tokenizer...\n",
      "   Transforming text to seq...\n"
     ]
    }
   ],
   "source": [
    "#PROCESS TEXT: RAW\n",
    "print(\"Text to seq process...\")\n",
    "print(\"   Fitting tokenizer...\")\n",
    "from keras.preprocessing.text import Tokenizer\n",
    "raw_text = np.hstack([train.comment_text.str.lower(), \n",
    "                      test.comment_text.str.lower()])\n",
    "tok_raw = Tokenizer()\n",
    "tok_raw.fit_on_texts(raw_text)\n",
    "print(\"   Transforming text to seq...\")\n",
    "train[\"input\"] = tok_raw.texts_to_sequences(train.comment_text.str.lower())\n",
    "test[\"input\"] = tok_raw.texts_to_sequences(test.comment_text.str.lower())"
   ]
  },
  {
   "cell_type": "markdown",
   "metadata": {
    "_cell_guid": "80c9d372-7ce6-4362-9bd4-d651ae62bc2f",
    "_uuid": "8180b10cde03390c7ef68e3692bbc88135c147ac"
   },
   "source": [
    "###### Some statistics on sentence lengths"
   ]
  },
  {
   "cell_type": "code",
   "execution_count": 13,
   "metadata": {
    "_cell_guid": "9923b707-c79f-4b00-8a34-f393bbb8b02c",
    "_uuid": "37d4430506598c63e71c84319e403f4e7db97ed9"
   },
   "outputs": [
    {
     "data": {
      "text/plain": [
       "<matplotlib.axes._subplots.AxesSubplot at 0x7f2ba5bf3ba8>"
      ]
     },
     "execution_count": 13,
     "metadata": {},
     "output_type": "execute_result"
    },
    {
     "data": {
      "image/png": "[encoded data removed]",
      "text/plain": [
       "<matplotlib.figure.Figure at 0x7f2ba6b04a58>"
      ]
     },
     "metadata": {},
     "output_type": "display_data"
    }
   ],
   "source": [
    "test.input.apply(lambda x: len(x)).hist()\n",
    "train.input.apply(lambda x: len(x)).hist()"
   ]
  },
  {
   "cell_type": "code",
   "execution_count": 14,
   "metadata": {
    "_cell_guid": "14f46bbc-761d-46f1-8fc9-1ee9530eb31d",
    "_uuid": "1a114cf0a5fdec11c93bdc53760b6e5139ee6c55"
   },
   "outputs": [
    {
     "name": "stdout",
     "output_type": "stream",
     "text": [
      "200 475107\n"
     ]
    }
   ],
   "source": [
    "MAX_LENGTH = 200\n",
    "MAX_TOKEN = np.max([np.max(train.input.max()),np.max(test.input.max())]) + 5\n",
    "print(MAX_LENGTH, MAX_TOKEN)"
   ]
  },
  {
   "cell_type": "code",
   "execution_count": 15,
   "metadata": {
    "_cell_guid": "99ad13ce-b85a-4b8f-b3ca-4be0b49be01c",
    "_uuid": "44c7dda15d2f17bdddb8b0f4babdaa6f5f6b1b3d"
   },
   "outputs": [
    {
     "name": "stdout",
     "output_type": "stream",
     "text": [
      "(111699, 2)\n",
      "(47872, 2)\n"
     ]
    },
    {
     "name": "stderr",
     "output_type": "stream",
     "text": [
      "/opt/conda/lib/python3.6/site-packages/sklearn/model_selection/_split.py:2026: FutureWarning: From version 0.21, test_size will always complement train_size unless both are specified.\n",
      "  FutureWarning)\n"
     ]
    }
   ],
   "source": [
    "train = train[['input', 'toxic']]\n",
    "dtrain, dvalid = train_test_split(train, random_state=17, train_size=0.7)\n",
    "print(dtrain.shape)\n",
    "print(dvalid.shape)"
   ]
  },
  {
   "cell_type": "markdown",
   "metadata": {
    "_cell_guid": "5e99953f-de71-4677-b235-b23868e1caac",
    "_uuid": "34845acfb679150a21961be303995de1606d94dd"
   },
   "source": [
    "###### Artificially balance the classes"
   ]
  },
  {
   "cell_type": "code",
   "execution_count": 16,
   "metadata": {
    "_cell_guid": "59514ed9-7210-44e9-b849-5ce97b3f8c5b",
    "_uuid": "11a63d101990d39521447824ae565889aab6e39b",
    "collapsed": true
   },
   "outputs": [],
   "source": [
    "L = len(dtrain)\n",
    "df_irr = dtrain[dtrain.toxic != 0]\n",
    "while len(dtrain) < 2*L:\n",
    "    dtrain = dtrain.append(df_irr, ignore_index=True)"
   ]
  },
  {
   "cell_type": "code",
   "execution_count": 17,
   "metadata": {
    "collapsed": true
   },
   "outputs": [],
   "source": [
    "L = len(dvalid)\n",
    "df_irr = dvalid[dvalid.toxic != 0]\n",
    "while len(dvalid) < 2*L:\n",
    "    dvalid = dvalid.append(df_irr, ignore_index=True)"
   ]
  },
  {
   "cell_type": "markdown",
   "metadata": {},
   "source": [
    "###### Creating RNN model"
   ]
  },
  {
   "cell_type": "code",
   "execution_count": 18,
   "metadata": {
    "collapsed": true
   },
   "outputs": [],
   "source": [
    "A = Input(shape=[MAX_LENGTH], name=\"in\")\n",
    "B = Embedding(MAX_TOKEN, 128)(A)\n",
    "C = GRU(32) (B)\n",
    "D = Dropout(0.6) (Dense(128, activation='relu') (C))\n",
    "E = Dropout(0.4) (Dense(32, activation='relu') (D))\n",
    "output = Dense(2, activation=\"softmax\") (E)"
   ]
  },
  {
   "cell_type": "code",
   "execution_count": 19,
   "metadata": {
    "_cell_guid": "852083b4-3596-43af-8616-4eed1f0049a8",
    "_uuid": "2efb5f0e4c0d78b190256a1bd5e1e3a0b2b0d525"
   },
   "outputs": [
    {
     "name": "stdout",
     "output_type": "stream",
     "text": [
      "_________________________________________________________________\n",
      "Layer (type)                 Output Shape              Param #   \n",
      "=================================================================\n",
      "in (InputLayer)              (None, 200)               0         \n",
      "_________________________________________________________________\n",
      "embedding_1 (Embedding)      (None, 200, 128)          60813696  \n",
      "_________________________________________________________________\n",
      "gru_1 (GRU)                  (None, 32)                15456     \n",
      "_________________________________________________________________\n",
      "dense_1 (Dense)              (None, 128)               4224      \n",
      "_________________________________________________________________\n",
      "dropout_1 (Dropout)          (None, 128)               0         \n",
      "_________________________________________________________________\n",
      "dense_2 (Dense)              (None, 32)                4128      \n",
      "_________________________________________________________________\n",
      "dropout_2 (Dropout)          (None, 32)                0         \n",
      "_________________________________________________________________\n",
      "dense_3 (Dense)              (None, 2)                 66        \n",
      "=================================================================\n",
      "Total params: 60,837,570\n",
      "Trainable params: 60,837,570\n",
      "Non-trainable params: 0\n",
      "_________________________________________________________________\n"
     ]
    }
   ],
   "source": [
    "model = Model(A, output)\n",
    "N_epoch = 1\n",
    "learning_rate = 0.05\n",
    "optimizer = SGD(learning_rate)\n",
    "loss = 'categorical_crossentropy'\n",
    "metrics = ['accuracy']\n",
    "model.compile(optimizer=optimizer, loss=loss, metrics=metrics)\n",
    "model.summary()"
   ]
  },
  {
   "cell_type": "code",
   "execution_count": 20,
   "metadata": {
    "_cell_guid": "aec2217c-ccc8-41fa-93ca-eb08ca65e6bf",
    "_uuid": "ad72e8f5cc6867e6653590d262e2abb91c0afc22"
   },
   "outputs": [],
   "source": [
    "train_x = pad_sequences(dtrain.input, maxlen=MAX_LENGTH)\n",
    "valid_x = pad_sequences(dvalid.input, maxlen=MAX_LENGTH)\n",
    "train_y = np_utils.to_categorical(dtrain.toxic.values, 2)\n",
    "valid_y = np_utils.to_categorical(dvalid.toxic.values, 2)"
   ]
  },
  {
   "cell_type": "code",
   "execution_count": 21,
   "metadata": {
    "_cell_guid": "f6333e56-af22-4f25-9818-1d72780f7192",
    "_uuid": "a73f1a3596dcada7221afbbd05d1678bb6210791"
   },
   "outputs": [
    {
     "name": "stdout",
     "output_type": "stream",
     "text": [
      "Train on 229509 samples, validate on 98296 samples\n",
      "Epoch 1/1\n",
      "229509/229509 [==============================] - 1600s 7ms/step - loss: 0.5985 - acc: 0.6551 - val_loss: 0.3845 - val_acc: 0.8291\n"
     ]
    }
   ],
   "source": [
    "res = model.fit(train_x, train_y, batch_size = 128, epochs = N_epoch, \n",
    "                verbose = 1, validation_data = (valid_x, valid_y))"
   ]
  },
  {
   "cell_type": "code",
   "execution_count": 22,
   "metadata": {
    "collapsed": true
   },
   "outputs": [],
   "source": []
  }
 ],
 "metadata": {
  "kernelspec": {
   "display_name": "Python 3",
   "language": "python",
   "name": "python3"
  },
  "language_info": {
   "codemirror_mode": {
    "name": "ipython",
    "version": 3
   },
   "file_extension": ".py",
   "mimetype": "text/x-python",
   "name": "python",
   "nbconvert_exporter": "python",
   "pygments_lexer": "ipython3",
   "version": "3.6.4"
  }
 },
 "nbformat": 4,
 "nbformat_minor": 1
}
